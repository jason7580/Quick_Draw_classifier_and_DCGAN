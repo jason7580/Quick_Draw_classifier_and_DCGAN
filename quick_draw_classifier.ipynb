{
  "nbformat": 4,
  "nbformat_minor": 0,
  "metadata": {
    "colab": {
      "provenance": [],
      "authorship_tag": "ABX9TyMN/qhNDcYSmUgLP6hzy1D1"
    },
    "kernelspec": {
      "name": "python3",
      "display_name": "Python 3"
    }
  },
  "cells": [
    {
      "cell_type": "code",
      "metadata": {
        "colab": {
          "base_uri": "https://localhost:8080/"
        },
        "id": "7q5GUbRt8twZ",
        "outputId": "1d3651c9-4acf-45c2-ab4b-8a76f3c36092"
      },
      "source": [
        "from google.colab import drive\n",
        "drive.mount('/content/drive')"
      ],
      "execution_count": null,
      "outputs": [
        {
          "output_type": "stream",
          "text": [
            "Drive already mounted at /content/drive; to attempt to forcibly remount, call drive.mount(\"/content/drive\", force_remount=True).\n"
          ],
          "name": "stdout"
        }
      ]
    },
    {
      "cell_type": "code",
      "metadata": {
        "colab": {
          "base_uri": "https://localhost:8080/"
        },
        "id": "2BX_nRqM9JZ8",
        "outputId": "36922a10-6ea0-4db8-85c6-4e0467b61ad3"
      },
      "source": [
        "import os\n",
        "import csv\n",
        "import cv2\n",
        "import ast\n",
        "import numpy as np\n",
        "import pandas as pd\n",
        "from glob import glob\n",
        "from tqdm import tqdm\n",
        "from PIL import Image, ImageDraw\n",
        "!pip install \"dask[bag]\"\n",
        "from dask import bag\n",
        "import tensorflow as tf\n",
        "from tensorflow import keras\n",
        "from tensorflow.keras.metrics import top_k_categorical_accuracy\n",
        "import matplotlib.pyplot as plt\n",
        "import matplotlib.style as style\n",
        "%matplotlib inline\n",
        "from keras.backend import clear_session\n",
        "from keras.layers import Activation, Reshape\n",
        "from keras.models import Sequential, Model\n",
        "from keras.layers import Input, Dense, BatchNormalization, Dropout, Flatten\n",
        "from keras.layers import Conv2D, Conv2DTranspose, UpSampling2D, Reshape, Flatten\n",
        "from keras.layers.advanced_activations import LeakyReLU\n",
        "from keras.optimizers import Adam, SGD\n",
        "from keras.initializers import RandomNormal\n",
        "#from keras.backend import clear_session\n",
        "from keras.models import load_model\n",
        "\n",
        "np.random.seed(0)\n",
        "class_paths = glob('/content/drive/My Drive/quickdraw/train/*.csv')\n",
        "#class_paths2 = pd.read_csv('/content/drive/My Drive/AI/input/generator_input.csv')\n",
        "numstonames = {i: v[39:-4].replace(\" \", \"_\") for i, v in enumerate(class_paths)}\n",
        "print(numstonames)\n",
        "namestonums = {v:k for k,v in numstonames.items()}"
      ],
      "execution_count": null,
      "outputs": [
        {
          "output_type": "stream",
          "text": [
            "Requirement already satisfied: dask[bag] in /usr/local/lib/python3.6/dist-packages (2.12.0)\n",
            "Requirement already satisfied: fsspec>=0.6.0; extra == \"bag\" in /usr/local/lib/python3.6/dist-packages (from dask[bag]) (0.8.5)\n",
            "Requirement already satisfied: cloudpickle>=0.2.1; extra == \"bag\" in /usr/local/lib/python3.6/dist-packages (from dask[bag]) (1.3.0)\n",
            "Requirement already satisfied: partd>=0.3.10; extra == \"bag\" in /usr/local/lib/python3.6/dist-packages (from dask[bag]) (1.1.0)\n",
            "Requirement already satisfied: toolz>=0.7.3; extra == \"bag\" in /usr/local/lib/python3.6/dist-packages (from dask[bag]) (0.11.1)\n",
            "Requirement already satisfied: locket in /usr/local/lib/python3.6/dist-packages (from partd>=0.3.10; extra == \"bag\"->dask[bag]) (0.2.0)\n",
            "{0: '/diamond', 1: '/ear', 2: '/clock', 3: '/door', 4: '/camera', 5: '/hammer', 6: '/airplane', 7: '/cake', 8: '/butterfly', 9: '/bird', 10: '/ladder', 11: '/hat', 12: '/computer', 13: '/bee', 14: '/bicycle', 15: '/guitar', 16: '/hamburger', 17: '/cat', 18: '/leaf', 19: '/shoe', 20: '/star', 21: '/pencil', 22: '/chair', 23: '/sword', 24: '/lion', 25: '/scissors', 26: '/rabbit', 27: '/tree', 28: '/hand', 29: '/The_Eiffel_Tower'}\n"
          ],
          "name": "stdout"
        }
      ]
    },
    {
      "cell_type": "code",
      "metadata": {
        "id": "Ijvnm1Wn9PDS"
      },
      "source": [
        "def draw_it(strokes):\n",
        "  image = Image.new(\"P\", (256,256), color=255)\n",
        "  image_draw = ImageDraw.Draw(image)\n",
        "  for stroke in ast.literal_eval(strokes):\n",
        "    for i in range(len(stroke[0])-1):\n",
        "      image_draw.line([stroke[0][i],\n",
        "                       stroke[1][i],\n",
        "                       stroke[0][i+1],\n",
        "                       stroke[1][i+1]],\n",
        "                       fill=0, width=5)\n",
        "  image = image.resize((imheight, imwidth))\n",
        "  return 255-np.array(image)"
      ],
      "execution_count": null,
      "outputs": []
    },
    {
      "cell_type": "code",
      "metadata": {
        "id": "zVaB5MJHPFBQ"
      },
      "source": [
        "traindata = np.zeros((1, 64, 64))\n",
        "testdata = np.zeros((1, 64, 64))\n"
      ],
      "execution_count": null,
      "outputs": []
    },
    {
      "cell_type": "code",
      "metadata": {
        "colab": {
          "base_uri": "https://localhost:8080/"
        },
        "id": "LIhkxwlkLq_I",
        "outputId": "01582003-95a4-4a66-8101-75c8eacf2c1e"
      },
      "source": [
        "for label in namestonums:\n",
        "  print(label)\n",
        "  num_classes = 30\n",
        "  imheight, imwidth = 64, 64\n",
        "  #ims_per_class = 5000\n",
        "  #generator_test = pd.read_csv(\"/content/drive/My Drive/quickdraw/train/\" + label + \".csv\",nrows=ims_per_class)\n",
        "  #generator_imagebag = bag.from_sequence(generator_test.drawing.values).map(draw_it)\n",
        "  #generator_trainarray = np.array(generator_imagebag.compute())\n",
        "  #A = np.append(A, generator_trainarray, axis = 0)\n",
        "  #generator_trainarray1 = generator_trainarray.reshape(64, 64, 100)\n",
        "  #np.concatenate((A, generator_trainarray1), axis = 2)\n",
        "  #generator_X_train = ((generator_trainarray.astype(np.float32)/127.5)) - 1. #normalize to be [-1,1]\n",
        "  #generator_num_train = generator_X_train.shape[0]\n",
        "  #generator_X_train = generator_X_train.reshape(generator_num_train, imheight, imwidth, 1)\n",
        "\n",
        "\n",
        "  ims_per_class = 6200\n",
        "  test = pd.read_csv(\"/content/drive/My Drive/quickdraw/train/\" + label + \".csv\",nrows=ims_per_class)\n",
        "  imagebag = bag.from_sequence(test.drawing.values).map(draw_it)\n",
        "  trainarray = np.array(imagebag.compute())\n",
        "  trainarray = trainarray.astype(np.float32)/255\n",
        "  traindata = np.append(traindata, trainarray[0:5999], axis = 0)\n",
        "  testdata = np.append(testdata, trainarray[6000:6200], axis = 0)\n",
        "  #generator_trainarray1 = generator_trainarray.reshape(64, 64, 100)\n",
        "  #np.concatenate((A, generator_trainarray1), axis = 2)\n",
        "  #generator_X_train = ((generator_trainarray.astype(np.float32)/127.5)) - 1. #normalize to be [-1,1]\n",
        "  #generator_num_train = generator_X_train.shape[0]\n",
        "  #generator_X_train = generator_X_train.reshape(generator_num_train, imheight, imwidth, 1)\n"
      ],
      "execution_count": null,
      "outputs": [
        {
          "output_type": "stream",
          "text": [
            "/diamond\n",
            "/ear\n",
            "/clock\n",
            "/door\n",
            "/camera\n",
            "/hammer\n",
            "/airplane\n",
            "/cake\n",
            "/butterfly\n",
            "/bird\n",
            "/ladder\n",
            "/hat\n",
            "/computer\n",
            "/bee\n",
            "/bicycle\n",
            "/guitar\n",
            "/hamburger\n",
            "/cat\n",
            "/leaf\n",
            "/shoe\n",
            "/star\n",
            "/pencil\n",
            "/chair\n",
            "/sword\n",
            "/lion\n",
            "/scissors\n",
            "/rabbit\n",
            "/tree\n",
            "/hand\n",
            "/The_Eiffel_Tower\n"
          ],
          "name": "stdout"
        }
      ]
    },
    {
      "cell_type": "code",
      "metadata": {
        "colab": {
          "base_uri": "https://localhost:8080/"
        },
        "id": "TRpHBVP0xolj",
        "outputId": "5e787f38-9475-400f-a7f0-f2dabebdb6a0"
      },
      "source": [
        "#generator_trainarray[3][45][45]\n",
        "traindata.shape"
      ],
      "execution_count": null,
      "outputs": [
        {
          "output_type": "execute_result",
          "data": {
            "text/plain": [
              "(179971, 64, 64)"
            ]
          },
          "metadata": {
            "tags": []
          },
          "execution_count": 6
        }
      ]
    },
    {
      "cell_type": "code",
      "metadata": {
        "colab": {
          "base_uri": "https://localhost:8080/"
        },
        "id": "3MDZyFFpVJ5p",
        "outputId": "82282538-4d09-46dd-cd84-765a8c20bcee"
      },
      "source": [
        "\n",
        "traindata = np.delete(traindata, (0), axis=0)\n",
        "\n",
        "traindata.shape"
      ],
      "execution_count": null,
      "outputs": [
        {
          "output_type": "execute_result",
          "data": {
            "text/plain": [
              "(179970, 64, 64)"
            ]
          },
          "metadata": {
            "tags": []
          },
          "execution_count": 5
        }
      ]
    },
    {
      "cell_type": "code",
      "metadata": {
        "colab": {
          "base_uri": "https://localhost:8080/"
        },
        "id": "tLmdrkK86HdK",
        "outputId": "82f01874-2776-421d-a3be-9da7afaecca6"
      },
      "source": [
        "testdata = np.delete(testdata, (0), axis=0)\n",
        "\n",
        "testdata.shape"
      ],
      "execution_count": null,
      "outputs": [
        {
          "output_type": "execute_result",
          "data": {
            "text/plain": [
              "(6000, 64, 64)"
            ]
          },
          "metadata": {
            "tags": []
          },
          "execution_count": 6
        }
      ]
    },
    {
      "cell_type": "code",
      "metadata": {
        "id": "9vR1GQ2dgo_p"
      },
      "source": [],
      "execution_count": null,
      "outputs": []
    },
    {
      "cell_type": "code",
      "metadata": {
        "colab": {
          "base_uri": "https://localhost:8080/",
          "height": 269
        },
        "id": "pkoEVPVTLwP_",
        "outputId": "83435d16-0394-4f60-a678-82fd6eed1ffb"
      },
      "source": [
        "plt.figure()\n",
        "plt.imshow(testdata[1440])\n",
        "plt.colorbar()\n",
        "plt.grid(False)\n",
        "plt.show()"
      ],
      "execution_count": null,
      "outputs": [
        {
          "output_type": "display_data",
          "data": {
            "image/png": "[encoded data removed]",
            "text/plain": [
              "<Figure size 432x288 with 2 Axes>"
            ]
          },
          "metadata": {
            "tags": [],
            "needs_background": "light"
          }
        }
      ]
    },
    {
      "cell_type": "code",
      "metadata": {
        "colab": {
          "base_uri": "https://localhost:8080/"
        },
        "id": "37M5oHSSoIrP",
        "outputId": "528a6fc3-9a12-4dee-8a3b-f4d1e5aab986"
      },
      "source": [
        "trainlable = []\n",
        "for i in range(30):\n",
        "  for j in range(5999):\n",
        "    trainlable.append([i])\n",
        "trainlable = np.array(trainlable)\n",
        "trainlable.shape"
      ],
      "execution_count": null,
      "outputs": [
        {
          "output_type": "execute_result",
          "data": {
            "text/plain": [
              "(179970, 1)"
            ]
          },
          "metadata": {
            "tags": []
          },
          "execution_count": 8
        }
      ]
    },
    {
      "cell_type": "code",
      "metadata": {
        "id": "CWZzv1U9rnVV",
        "colab": {
          "base_uri": "https://localhost:8080/"
        },
        "outputId": "3b4d1a4e-11e0-4ffd-858d-b6d4a52df043"
      },
      "source": [
        "testlable = []\n",
        "for i in range(30):\n",
        "  for j in range(200):\n",
        "    testlable.append([i])\n",
        "testlable = np.array(testlable)\n",
        "testlable.shape"
      ],
      "execution_count": null,
      "outputs": [
        {
          "output_type": "execute_result",
          "data": {
            "text/plain": [
              "(6000, 1)"
            ]
          },
          "metadata": {
            "tags": []
          },
          "execution_count": 9
        }
      ]
    },
    {
      "cell_type": "code",
      "metadata": {
        "id": "ntu-CULagrRK"
      },
      "source": [],
      "execution_count": null,
      "outputs": []
    },
    {
      "cell_type": "code",
      "metadata": {
        "id": "k78greGKR6eR"
      },
      "source": [
        "#model = keras.applications.ResNet50(weights='imagenet',\n",
        "#                      include_top=False,\n",
        "#                      input_shape=(64,64,1), pooling=\"avg\")\n",
        "\n",
        "\n",
        "#print(f\"Now # of layers: {len(model.layers)}\")\n",
        "# model.summary()\n",
        "\n",
        "#x = model.layers[-1].output\n",
        "\n",
        "#x = Flatten()(x)\n",
        "\n",
        "#x = Dense(512, name=f'added_dense1', activation='relu')(x)\n",
        "#x = Dropout(0.5)(x)\n",
        "#predictions = Dense(1, activation='sigmoid', name='predictions')(x)\n",
        "# predictions = tf.keras.layers.Dense(2, activation='sigmoid', name='predictions')(x)\n",
        "#model = tf.keras.Model(inputs=model.input, outputs=predictions)\n",
        "\n",
        "\n",
        "#model.trainable = False\n",
        "#for layer in model.layers:\n",
        "#    layer.trainable = False\n",
        "\n",
        "#model.trainable = True\n",
        "#for layer in model.layers:\n",
        "    # Boolean whether this layer is trainable.\n",
        "#    trainable = ('added' in layer.name) or ('predictions' in layer.name)\n",
        "    # trainable = ('added' in layer.name)\n",
        "    # Set the layer's bool.\n",
        "#    layer.trainable = trainable\n",
        "\n",
        "#model.summary()\n",
        "#print(f\"Now # of layers: {len(model.layers)}\")"
      ],
      "execution_count": null,
      "outputs": []
    },
    {
      "cell_type": "code",
      "metadata": {
        "id": "tS2FmC9zSoxR"
      },
      "source": [
        "#from keras import backend as K\n",
        "\n",
        "#def recall_m(y_true, y_pred):\n",
        "#    TP = K.sum(y_true * K.round(y_pred))\n",
        "#    TPandFN = K.sum(y_true)\n",
        "#    recall = TP / (TPandFN + K.epsilon())\n",
        "#    return recall\n",
        "\n",
        "#def precision_m(y_true, y_pred):\n",
        "#    TP = K.sum(y_true * K.round(y_pred))\n",
        "#    TPandFP = K.sum(K.round(y_pred))\n",
        "#    precision = TP / (TPandFP + K.epsilon())\n",
        "#    return precision\n",
        "\n",
        "#def f1_m(y_true, y_pred):\n",
        "#    precision = precision_m(y_true, y_pred)\n",
        "#    recall = recall_m(y_true, y_pred)\n",
        "#    return 2*((precision*recall)/(precision+recall+K.epsilon()))\n",
        "\n",
        "# compile the model\n",
        "# model.compile(optimizer='adam', loss='binary_crossentropy', metrics=['acc', f1_m,precision_m, recall_m])\n",
        "#opt = Adam(learning_rate=1e-4)\n",
        "#model.compile(optimizer=opt, loss='binary_crossentropy', metrics=['acc', f1_m,]) #precision_m, recall_m])\n",
        "# model.compile(optimizer=opt, loss=f1_loss, metrics=['acc', f1_m])#,precision_m, recall_m])\n",
        "# fit the model\n",
        "#model.fit(traindata, trainlable, epochs=10)"
      ],
      "execution_count": null,
      "outputs": []
    },
    {
      "cell_type": "code",
      "metadata": {
        "id": "UTPuAsvyaJEi"
      },
      "source": [
        "#model.fit(x = x_train, y = y_train, validation_split=0.1, batch_size = 256, verbose=2, epochs=5)"
      ],
      "execution_count": null,
      "outputs": []
    },
    {
      "cell_type": "code",
      "metadata": {
        "id": "3kAevWOP-2Ir"
      },
      "source": [
        "model = keras.Sequential([\n",
        "    keras.layers.Flatten(input_shape=(64, 64)),  # input layer (1)\n",
        "    keras.layers.Dense(256, activation='relu'),\n",
        "    keras.layers.Dense(128, activation='relu'),  # hidden layer (2)\n",
        "    keras.layers.Dense(30, activation='softmax') # output layer (3)\n",
        "])"
      ],
      "execution_count": null,
      "outputs": []
    },
    {
      "cell_type": "code",
      "metadata": {
        "id": "InREXlH_-4eP"
      },
      "source": [
        "model.compile(optimizer='adam',\n",
        "              loss='sparse_categorical_crossentropy',\n",
        "              metrics=['accuracy'])"
      ],
      "execution_count": null,
      "outputs": []
    },
    {
      "cell_type": "code",
      "metadata": {
        "colab": {
          "base_uri": "https://localhost:8080/"
        },
        "id": "G2j7hNBO-6as",
        "outputId": "5300c56d-fba7-48e3-cbe1-9d95940a7e40"
      },
      "source": [
        "model.fit(traindata, trainlable, batch_size = 128, epochs=8)"
      ],
      "execution_count": null,
      "outputs": [
        {
          "output_type": "stream",
          "text": [
            "Epoch 1/8\n",
            "1407/1407 [==============================] - 24s 16ms/step - loss: 1.5088 - accuracy: 0.5803\n",
            "Epoch 2/8\n",
            "1407/1407 [==============================] - 24s 17ms/step - loss: 0.5865 - accuracy: 0.8320\n",
            "Epoch 3/8\n",
            "1407/1407 [==============================] - 23s 16ms/step - loss: 0.3413 - accuracy: 0.9021\n",
            "Epoch 4/8\n",
            "1407/1407 [==============================] - 23s 17ms/step - loss: 0.1938 - accuracy: 0.9451\n",
            "Epoch 5/8\n",
            "1407/1407 [==============================] - 24s 17ms/step - loss: 0.1172 - accuracy: 0.9658\n",
            "Epoch 6/8\n",
            "1407/1407 [==============================] - 24s 17ms/step - loss: 0.0859 - accuracy: 0.9740\n",
            "Epoch 7/8\n",
            "1407/1407 [==============================] - 24s 17ms/step - loss: 0.0680 - accuracy: 0.9778\n",
            "Epoch 8/8\n",
            "1407/1407 [==============================] - 24s 17ms/step - loss: 0.0597 - accuracy: 0.9804\n"
          ],
          "name": "stdout"
        },
        {
          "output_type": "execute_result",
          "data": {
            "text/plain": [
              "<tensorflow.python.keras.callbacks.History at 0x7f96f04cc588>"
            ]
          },
          "metadata": {
            "tags": []
          },
          "execution_count": 12
        }
      ]
    },
    {
      "cell_type": "code",
      "metadata": {
        "colab": {
          "base_uri": "https://localhost:8080/"
        },
        "id": "l0vKp0R5-8Zh",
        "outputId": "eb193ba6-079f-4aa3-86ae-0359ca4a5e52"
      },
      "source": [
        "test_loss, test_acc = model.evaluate(testdata,  testlable, verbose=1)\n",
        "\n",
        "print('Test accuracy:', test_acc)"
      ],
      "execution_count": null,
      "outputs": [
        {
          "output_type": "stream",
          "text": [
            "188/188 [==============================] - 1s 3ms/step - loss: 1.5257 - accuracy: 0.7667\n",
            "Test accuracy: 0.7666666507720947\n"
          ],
          "name": "stdout"
        }
      ]
    },
    {
      "cell_type": "code",
      "metadata": {
        "id": "QATukaHzoQ_1"
      },
      "source": [
        "##pip install -q pyyaml h5py\n",
        "#!mkdir -p saved_model\n",
        "#model.save('')\n",
        "model.save('/content/drive/My Drive/quickdraw/model/classmodel.h5')"
      ],
      "execution_count": null,
      "outputs": []
    },
    {
      "cell_type": "code",
      "metadata": {
        "id": "gSu5Zp9rngZN"
      },
      "source": [
        "predictions = model.predict(testdata)"
      ],
      "execution_count": null,
      "outputs": []
    },
    {
      "cell_type": "code",
      "metadata": {
        "colab": {
          "base_uri": "https://localhost:8080/"
        },
        "id": "Uo_1N7JJnq6f",
        "outputId": "6115235c-2dbc-4bbf-b5b7-9fef257d0586"
      },
      "source": [
        "predictions[300]"
      ],
      "execution_count": null,
      "outputs": [
        {
          "output_type": "execute_result",
          "data": {
            "text/plain": [
              "array([1.3401976e-05, 9.8833883e-01, 8.0564450e-07, 2.5201422e-07,\n",
              "       2.3002593e-11, 1.0004440e-02, 1.6602487e-05, 1.3099279e-08,\n",
              "       1.9478724e-14, 5.8386085e-04, 1.2106006e-08, 1.2644920e-05,\n",
              "       4.7199229e-08, 8.9318547e-10, 5.9427069e-10, 1.1292209e-10,\n",
              "       1.4113614e-07, 6.6560060e-06, 4.8013547e-04, 1.4811921e-12,\n",
              "       4.0658135e-10, 4.8733892e-09, 1.8120899e-08, 1.2963044e-09,\n",
              "       5.1923632e-07, 3.7147505e-08, 1.7490366e-08, 5.4135814e-04,\n",
              "       5.3178368e-08, 7.7943069e-10], dtype=float32)"
            ]
          },
          "metadata": {
            "tags": []
          },
          "execution_count": 18
        }
      ]
    },
    {
      "cell_type": "code",
      "metadata": {
        "colab": {
          "base_uri": "https://localhost:8080/",
          "height": 35
        },
        "id": "Yx3vkzLgn1wT",
        "outputId": "0edc4d59-300d-44e6-c5aa-b6fb36aca30c"
      },
      "source": [
        "numstonames[np.argmax(predictions[300])]"
      ],
      "execution_count": null,
      "outputs": [
        {
          "output_type": "execute_result",
          "data": {
            "application/vnd.google.colaboratory.intrinsic+json": {
              "type": "string"
            },
            "text/plain": [
              "'/ear'"
            ]
          },
          "metadata": {
            "tags": []
          },
          "execution_count": 46
        }
      ]
    },
    {
      "cell_type": "code",
      "metadata": {
        "colab": {
          "base_uri": "https://localhost:8080/"
        },
        "id": "YflYvLlLibLV",
        "outputId": "ce700bc8-4398-4f52-81d6-60993fa618ad"
      },
      "source": [
        "demo = np.zeros((1, 64, 64))\n",
        "imheight, imwidth = 64, 64\n",
        "test = pd.read_csv(\"/content/drive/My Drive/quickdraw/classifier_input.csv\")\n",
        "imagebag = bag.from_sequence(test.drawing.values).map(draw_it)\n",
        "trainarray = np.array(imagebag.compute())\n",
        "trainarray = trainarray.astype(np.float32)/255\n",
        "demo = trainarray\n",
        "\n",
        "\n",
        "demo.shape"
      ],
      "execution_count": null,
      "outputs": [
        {
          "output_type": "execute_result",
          "data": {
            "text/plain": [
              "(30, 64, 64)"
            ]
          },
          "metadata": {
            "tags": []
          },
          "execution_count": 66
        }
      ]
    },
    {
      "cell_type": "code",
      "metadata": {
        "id": "5DpE5mn_5J87"
      },
      "source": [
        "demopredictions = model.predict(demo)"
      ],
      "execution_count": null,
      "outputs": []
    },
    {
      "cell_type": "code",
      "metadata": {
        "id": "h3CRwFERq5Vw"
      },
      "source": [
        "democsv = open(\"/content/drive/My Drive/quickdraw/classifier_input1.csv\", 'r')\n",
        "democsv = csv.reader(democsv)\n",
        "C = open(\"/content/drive/My Drive/quickdraw/classifier_input1.csv\", 'w')\n",
        "C = csv.writer(C)"
      ],
      "execution_count": null,
      "outputs": []
    },
    {
      "cell_type": "code",
      "metadata": {
        "colab": {
          "base_uri": "https://localhost:8080/"
        },
        "id": "V2q3Q8h52ykg",
        "outputId": "d91b78b6-e60e-4b80-8a0b-255ff8aa2e08"
      },
      "source": [
        "demoinput = []\n",
        "for j in range(30):\n",
        "  demoinput.append(numstonames[np.argmax(demopredictions[j])])\n",
        "print(demoinput)"
      ],
      "execution_count": null,
      "outputs": [
        {
          "output_type": "stream",
          "text": [
            "['/pencil', '/scissors', '/rabbit', '/rabbit', '/ladder', '/cat', '/hat', '/airplane', '/star', '/sword', '/cake', '/computer', '/chair', '/pencil', '/clock', '/lion', '/pencil', '/hand', '/butterfly', '/tree', '/chair', '/bird', '/hammer', '/door', '/leaf', '/bird', '/shoe', '/butterfly', '/guitar', '/bird']\n"
          ],
          "name": "stdout"
        }
      ]
    },
    {
      "cell_type": "code",
      "metadata": {
        "id": "Zzcq8kaM3_Q4"
      },
      "source": [
        "with open(\"/content/drive/My Drive/quickdraw/classifier_input1.csv\", 'r+') as f:\n",
        "    writeCsv = csv.writer(f)\n",
        "    writeCsv.writerow('word')\n",
        "    writeCsv.writerows(demoinput)"
      ],
      "execution_count": null,
      "outputs": []
    },
    {
      "cell_type": "code",
      "metadata": {
        "id": "wbTqtY5s8kud"
      },
      "source": [
        "csvFile=open(\"/content/drive/My Drive/quickdraw/output.csv\",'w',newline='')\n",
        "\n",
        "writer=csv.writer(csvFile)\n",
        "writer.writerow(('word'))\n",
        "for i in range(29):\n",
        "    writer.writerow(numstonames[np.argmax(demopredictions[j])])"
      ],
      "execution_count": null,
      "outputs": []
    },
    {
      "cell_type": "code",
      "metadata": {
        "id": "py2TphphnaL7"
      },
      "source": [
        "demopredictions = model.predict(demo)\n",
        "democsv = next\n",
        "i = 0\n",
        "for item in democsv:\n",
        "  item.append(numstonames[np.argmax(demopredictions[i])])\n",
        "  i += 1"
      ],
      "execution_count": null,
      "outputs": []
    },
    {
      "cell_type": "code",
      "metadata": {
        "id": "gN9gqn4z0Gtu"
      },
      "source": [
        "with open(\"/content/drive/My Drive/quickdraw/classifier_input1.csv\", 'w') as f:\n",
        "    writedCsv = csv.DictWriter(f, headers)\n",
        "    writedCsv.writeheader()\n",
        "    writedCsv.writerows(rows)\n",
        ""
      ],
      "execution_count": null,
      "outputs": []
    },
    {
      "cell_type": "code",
      "metadata": {
        "id": "zz4ddDPKxdJY"
      },
      "source": [
        "with open(\"/content/drive/My Drive/quickdraw/classifier_input1.csv\", 'r') as csvinput:\n",
        "  with open(\"/content/drive/My Drive/quickdraw/classifier_input1.csv\", 'w') as csvoutput:\n",
        "      writer = csv.writer(csvoutput, lineterminator='\\n')\n",
        "      reader = csv.reader(csvinput)\n",
        "\n",
        "      all = []\n",
        "      row = next(reader)\n",
        "      row.append('word')\n",
        "      all.append(row)\n",
        "      i = 0\n",
        "      for row in reader:\n",
        "          row.append(numstonames[np.argmax(demopredictions[i])])\n",
        "          all.append(row)\n",
        "          i += 1\n",
        "\n",
        "      writer.writerows(all)"
      ],
      "execution_count": null,
      "outputs": []
    },
    {
      "cell_type": "code",
      "metadata": {
        "colab": {
          "base_uri": "https://localhost:8080/",
          "height": 35
        },
        "id": "t767SKAhvd1x",
        "outputId": "20928fee-4f30-4869-94f0-e2037be7c93d"
      },
      "source": [
        "numstonames[np.argmax(demopredictions[13])]"
      ],
      "execution_count": null,
      "outputs": [
        {
          "output_type": "execute_result",
          "data": {
            "application/vnd.google.colaboratory.intrinsic+json": {
              "type": "string"
            },
            "text/plain": [
              "'/clock'"
            ]
          },
          "metadata": {
            "tags": []
          },
          "execution_count": 47
        }
      ]
    },
    {
      "cell_type": "code",
      "metadata": {
        "colab": {
          "base_uri": "https://localhost:8080/",
          "height": 269
        },
        "id": "sdEPnbo4-eQ_",
        "outputId": "45adcc29-8bda-4d3d-b290-011aa896a0cb"
      },
      "source": [
        "plt.figure()\n",
        "plt.imshow(demo[0])\n",
        "plt.colorbar()\n",
        "plt.grid(False)\n",
        "plt.show()"
      ],
      "execution_count": null,
      "outputs": [
        {
          "output_type": "display_data",
          "data": {
            "image/png": "[encoded data removed]",
            "text/plain": [
              "<Figure size 432x288 with 2 Axes>"
            ]
          },
          "metadata": {
            "tags": [],
            "needs_background": "light"
          }
        }
      ]
    }
  ]
}